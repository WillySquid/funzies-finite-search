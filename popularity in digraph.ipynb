{
 "cells": [
  {
   "cell_type": "code",
   "execution_count": 1,
   "metadata": {},
   "outputs": [],
   "source": [
    "def all_possible(n):\n",
    "    #output is a list of all lists of length n and composed of only 1s and 0s\n",
    "    #note:is not defined for n=1\n",
    "    \n",
    "    #we will first find all binary string of length n beginning with 1\n",
    "    #we do this by converting numbers to binary\n",
    "    #top and bottom are the greatest and least numbers that have n digits base 2\n",
    "    top = 2**(n)\n",
    "    bottom = 2**(n-1)\n",
    "    \n",
    "    #here, we convert the numbers into base 2\n",
    "    #but we also take off the first digit\n",
    "    #two strings are then added to the list \"strings\" - one starting with 0, the other with 1\n",
    "    strings = []\n",
    "    for x in range(top-bottom):\n",
    "        x += bottom\n",
    "        strings.append('0'+bin(x)[3:])\n",
    "        strings.append('1'+bin(x)[3:])\n",
    "    \n",
    "    #we now convert the list of strings into a list of lists\n",
    "    lists = []\n",
    "    for s in strings:\n",
    "        l = []\n",
    "        for e in s:\n",
    "            l.append(int(e))\n",
    "        lists.append(l)\n",
    "        \n",
    "    return lists"
   ]
  },
  {
   "cell_type": "code",
   "execution_count": 25,
   "metadata": {},
   "outputs": [],
   "source": [
    "def minus_ones(l):\n",
    "    #counts how many -1s in a list\n",
    "    \n",
    "    minus_ones = 0\n",
    "    \n",
    "    for e in l:\n",
    "        if e == -1:\n",
    "            minus_ones += 1\n",
    "            \n",
    "    return minus_ones"
   ]
  },
  {
   "cell_type": "code",
   "execution_count": 44,
   "metadata": {},
   "outputs": [],
   "source": [
    "def most_popular(d):\n",
    "    #finds vertex of digraph d with most incoming edges\n",
    "    \n",
    "    popularity = {}\n",
    "    for x in range(len(d)):\n",
    "        p = d[x]\n",
    "        popularity[x] = minus_ones(p)\n",
    "        \n",
    "    popularity = {k: v for k, v in sorted(popularity.items(), key=lambda item: item[1])}\n",
    "    ranked_points = list(popularity.keys())\n",
    "    max_pop = popularity[ranked_points[-1]]\n",
    "    \n",
    "    most = []\n",
    "    for k in popularity:\n",
    "        if popularity[k] == max_pop:\n",
    "            most.append(k)\n",
    "    \n",
    "    return most"
   ]
  },
  {
   "cell_type": "code",
   "execution_count": 41,
   "metadata": {},
   "outputs": [],
   "source": [
    "def highest_popularity(d):\n",
    "    #finds popularity of most popular point\n",
    "    \n",
    "    popularity = {}\n",
    "    for x in range(len(d)):\n",
    "        p = d[x]\n",
    "        popularity[x] = minus_ones(p)\n",
    "        \n",
    "    popularity = {k: v for k, v in sorted(popularity.items(), key=lambda item: item[1])}\n",
    "    ranked_points = list(popularity.keys())\n",
    "    max_pop = popularity[ranked_points[-1]]\n",
    "    \n",
    "    return max_pop"
   ]
  },
  {
   "cell_type": "code",
   "execution_count": 45,
   "metadata": {},
   "outputs": [
    {
     "data": {
      "text/plain": [
       "[3]"
      ]
     },
     "execution_count": 45,
     "metadata": {},
     "output_type": "execute_result"
    }
   ],
   "source": [
    "#example\n",
    "most_popular([[0, 0, 0, -1], [0, 0, 0, 1], [0, 0, 0, 1], [1, -1, -1, 0]])"
   ]
  },
  {
   "cell_type": "code",
   "execution_count": 43,
   "metadata": {},
   "outputs": [],
   "source": [
    "def iteration(l):\n",
    "    #outputs a list equivalent to the transformation applied to l\n",
    "    \n",
    "    output = []\n",
    "    length = len(l)\n",
    "    for i in range(length):\n",
    "        output.append(abs(l[(i-1)%length]-l[i]))\n",
    "        \n",
    "    return output\n",
    "\n",
    "def matrix_of_size(n):\n",
    "    #ouputs a list of n lists of n empty lists\n",
    "    \n",
    "    m = []\n",
    "    \n",
    "    for _ in range(n):\n",
    "        l = []\n",
    "        for _ in range(n):\n",
    "            l.append(0)\n",
    "        m.append(l)\n",
    "    \n",
    "    return m\n",
    "\n",
    "def digraph(n):\n",
    "    #ouputs matrix representing digraph\n",
    "    \n",
    "    possible = all_possible(n)\n",
    "    \n",
    "    d = matrix_of_size(2**n)\n",
    "    \n",
    "    for p in possible:\n",
    "        a = possible.index(p)\n",
    "        q = iteration(p)\n",
    "        b = possible.index(q)\n",
    "        \n",
    "        d[a][b] = 1\n",
    "        d[b][a] = -1\n",
    "        \n",
    "        if a == b:\n",
    "            d[a][b] = 0\n",
    "        \n",
    "    return d"
   ]
  },
  {
   "cell_type": "code",
   "execution_count": 47,
   "metadata": {},
   "outputs": [
    {
     "data": {
      "text/plain": [
       "0.498046875"
      ]
     },
     "execution_count": 47,
     "metadata": {},
     "output_type": "execute_result"
    }
   ],
   "source": [
    "len(most_popular(digraph(9)))/(2**9)"
   ]
  },
  {
   "cell_type": "code",
   "execution_count": 52,
   "metadata": {},
   "outputs": [
    {
     "data": {
      "text/plain": [
       "2"
      ]
     },
     "execution_count": 52,
     "metadata": {},
     "output_type": "execute_result"
    }
   ],
   "source": [
    "highest_popularity(digraph(12))"
   ]
  }
 ],
 "metadata": {
  "kernelspec": {
   "display_name": "Python 3",
   "language": "python",
   "name": "python3"
  },
  "language_info": {
   "codemirror_mode": {
    "name": "ipython",
    "version": 3
   },
   "file_extension": ".py",
   "mimetype": "text/x-python",
   "name": "python",
   "nbconvert_exporter": "python",
   "pygments_lexer": "ipython3",
   "version": "3.7.3"
  }
 },
 "nbformat": 4,
 "nbformat_minor": 2
}
