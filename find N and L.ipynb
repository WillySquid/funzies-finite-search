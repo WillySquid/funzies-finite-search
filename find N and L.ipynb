{
 "cells": [
  {
   "cell_type": "code",
   "execution_count": 6,
   "metadata": {},
   "outputs": [],
   "source": [
    "import random"
   ]
  },
  {
   "cell_type": "code",
   "execution_count": 9,
   "metadata": {},
   "outputs": [],
   "source": [
    "def random_f(D, R):\n",
    "    f = {}\n",
    "    for x in D:\n",
    "        f[x] = R[random.randint(0, len(R) - 1)]\n",
    "    return f"
   ]
  },
  {
   "cell_type": "code",
   "execution_count": 17,
   "metadata": {},
   "outputs": [],
   "source": [
    "f = random_f(range(12), range(12))"
   ]
  },
  {
   "cell_type": "code",
   "execution_count": 11,
   "metadata": {},
   "outputs": [],
   "source": [
    "def apply_f(f, x):\n",
    "    if x in f:\n",
    "        return f[x]\n",
    "    else:\n",
    "        return \"domain error\""
   ]
  },
  {
   "cell_type": "code",
   "execution_count": 40,
   "metadata": {},
   "outputs": [],
   "source": [
    "def upper_bounds(f, x):\n",
    "    \n",
    "    a = x\n",
    "    b = apply_f(f, x)\n",
    "    c = 1\n",
    "    memory = [a, b, c]\n",
    "    \n",
    "    while a != b:\n",
    "        c += 1\n",
    "        b = apply_f(f, apply_f(f, b))\n",
    "        a = apply_f(f, a)\n",
    "        memory = [a, b, c, x]\n",
    "    \n",
    "    return memory"
   ]
  },
  {
   "cell_type": "code",
   "execution_count": 41,
   "metadata": {},
   "outputs": [],
   "source": [
    "def find_L(f, memory):\n",
    "    a = memory[0]\n",
    "    b = apply_f(f, memory[0])\n",
    "    c = memory[2] + 1\n",
    "    x = memory[3]\n",
    "    L = 1\n",
    "    memory = [a, b, c, x, L]\n",
    "    \n",
    "    while a != b:\n",
    "        b = apply_f(f, b)\n",
    "        c += 1\n",
    "        L += 1\n",
    "        memory = [a, b, c, x, L]\n",
    "\n",
    "    return memory"
   ]
  },
  {
   "cell_type": "code",
   "execution_count": 42,
   "metadata": {},
   "outputs": [],
   "source": [
    "def find_N(f, memory):\n",
    "    a = memory[0]\n",
    "    b = memory[3]\n",
    "    c = memory[2]\n",
    "    x = memory[3]\n",
    "    L = memory[4]\n",
    "    N = 0\n",
    "    memory = [a, b, c, x, L, N]\n",
    "    \n",
    "    while a != b:\n",
    "        b = apply_f(f, b)\n",
    "        c += 1\n",
    "        N += 1\n",
    "        memory = [a, b, c, x, L, N]\n",
    "        \n",
    "    return memory"
   ]
  },
  {
   "cell_type": "code",
   "execution_count": 43,
   "metadata": {},
   "outputs": [],
   "source": [
    "def read_memory(memory):\n",
    "    print('L = ' + str(memory[4]))\n",
    "    print('N = ' + str(memory[5]))\n",
    "    print('steps = ' + str(memory[2]))"
   ]
  },
  {
   "cell_type": "code",
   "execution_count": 44,
   "metadata": {},
   "outputs": [],
   "source": [
    "def find_all(f, x):\n",
    "    read_memory(find_N(f, find_L(f, upper_bounds(f, x))))"
   ]
  },
  {
   "cell_type": "code",
   "execution_count": 45,
   "metadata": {},
   "outputs": [
    {
     "name": "stdout",
     "output_type": "stream",
     "text": [
      "L = 1\n",
      "N = 4\n",
      "steps = 10\n"
     ]
    }
   ],
   "source": [
    "find_all(f, 4)"
   ]
  }
 ],
 "metadata": {
  "kernelspec": {
   "display_name": "Python 3",
   "language": "python",
   "name": "python3"
  },
  "language_info": {
   "codemirror_mode": {
    "name": "ipython",
    "version": 3
   },
   "file_extension": ".py",
   "mimetype": "text/x-python",
   "name": "python",
   "nbconvert_exporter": "python",
   "pygments_lexer": "ipython3",
   "version": "3.7.3"
  }
 },
 "nbformat": 4,
 "nbformat_minor": 2
}
