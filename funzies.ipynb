{
 "cells": [
  {
   "cell_type": "code",
   "execution_count": 27,
   "metadata": {},
   "outputs": [],
   "source": [
    "def all_possible(n):\n",
    "    #output is a list of all lists of length n and composed of only 1s and 0s\n",
    "    #note:is not defined for n=1\n",
    "    \n",
    "    top = 2**(n-1)\n",
    "    bottom = 2**(n-2)\n",
    "    \n",
    "    strings = []\n",
    "    for x in range(top-bottom):\n",
    "        x += bottom\n",
    "        strings.append('0'+bin(x)[2:])\n",
    "        strings.append('1'+bin(x)[2:])\n",
    "    \n",
    "    lists = []\n",
    "    for s in strings:\n",
    "        l = []\n",
    "        for e in s:\n",
    "            l.append(int(e))\n",
    "        lists.append(l)\n",
    "        \n",
    "    return lists"
   ]
  },
  {
   "cell_type": "code",
   "execution_count": 61,
   "metadata": {},
   "outputs": [],
   "source": [
    "def iteration(l):\n",
    "    output = []\n",
    "    length = len(l)\n",
    "    for i in range(length):\n",
    "        output.append(abs(l[(i-1)%length]-l[i]))\n",
    "    return output"
   ]
  },
  {
   "cell_type": "code",
   "execution_count": 62,
   "metadata": {},
   "outputs": [],
   "source": [
    "def iterate(l, n):\n",
    "    for _ in range(n):\n",
    "        l = iteration(l)\n",
    "    return l"
   ]
  },
  {
   "cell_type": "code",
   "execution_count": 72,
   "metadata": {},
   "outputs": [],
   "source": [
    "def zeroes(l):\n",
    "    if sum(l)==0:\n",
    "        return True\n",
    "    else:\n",
    "        return False"
   ]
  },
  {
   "cell_type": "code",
   "execution_count": 75,
   "metadata": {},
   "outputs": [],
   "source": [
    "def check(n):\n",
    "    v = True\n",
    "    possibilities = all_possible(n)\n",
    "    for p in possibilities:\n",
    "        v = v and zeroes(iterate(p, 2**n))\n",
    "        if not v:\n",
    "            return False\n",
    "    return True"
   ]
  },
  {
   "cell_type": "code",
   "execution_count": null,
   "metadata": {},
   "outputs": [
    {
     "name": "stdout",
     "output_type": "stream",
     "text": [
      "2: True\n",
      "3: False\n",
      "4: True\n",
      "5: False\n",
      "6: False\n",
      "7: False\n",
      "8: True\n",
      "9: False\n",
      "10: False\n",
      "11: False\n",
      "12: False\n",
      "13: False\n",
      "14: False\n",
      "15: False\n"
     ]
    }
   ],
   "source": [
    "for x in range(15):\n",
    "    print(str(x+2)+': '+str(check(x+2)))"
   ]
  }
 ],
 "metadata": {
  "kernelspec": {
   "display_name": "Python 3",
   "language": "python",
   "name": "python3"
  },
  "language_info": {
   "codemirror_mode": {
    "name": "ipython",
    "version": 3
   },
   "file_extension": ".py",
   "mimetype": "text/x-python",
   "name": "python",
   "nbconvert_exporter": "python",
   "pygments_lexer": "ipython3",
   "version": "3.7.3"
  }
 },
 "nbformat": 4,
 "nbformat_minor": 2
}
